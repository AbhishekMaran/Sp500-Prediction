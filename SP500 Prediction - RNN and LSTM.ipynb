{
 "cells": [
  {
   "cell_type": "code",
   "execution_count": 65,
   "metadata": {},
   "outputs": [],
   "source": [
    "import pandas as pd\n",
    "import numpy as np\n",
    "import matplotlib.pyplot as plt\n",
    "from sklearn.preprocessing import MinMaxScaler\n",
    "\n",
    "df = pd.read_csv('sp500.csv')"
   ]
  },
  {
   "cell_type": "code",
   "execution_count": 20,
   "metadata": {},
   "outputs": [
    {
     "data": {
      "text/html": [
       "<div>\n",
       "<style scoped>\n",
       "    .dataframe tbody tr th:only-of-type {\n",
       "        vertical-align: middle;\n",
       "    }\n",
       "\n",
       "    .dataframe tbody tr th {\n",
       "        vertical-align: top;\n",
       "    }\n",
       "\n",
       "    .dataframe thead th {\n",
       "        text-align: right;\n",
       "    }\n",
       "</style>\n",
       "<table border=\"1\" class=\"dataframe\">\n",
       "  <thead>\n",
       "    <tr style=\"text-align: right;\">\n",
       "      <th></th>\n",
       "      <th>Date</th>\n",
       "      <th>Open</th>\n",
       "      <th>High</th>\n",
       "      <th>Low</th>\n",
       "      <th>Close</th>\n",
       "      <th>Volume</th>\n",
       "    </tr>\n",
       "  </thead>\n",
       "  <tbody>\n",
       "    <tr>\n",
       "      <th>0</th>\n",
       "      <td>03-01-00</td>\n",
       "      <td>1469.250000</td>\n",
       "      <td>1478.000000</td>\n",
       "      <td>1438.359985</td>\n",
       "      <td>1455.219971</td>\n",
       "      <td>931800000</td>\n",
       "    </tr>\n",
       "    <tr>\n",
       "      <th>1</th>\n",
       "      <td>04-01-00</td>\n",
       "      <td>1455.219971</td>\n",
       "      <td>1455.219971</td>\n",
       "      <td>1397.430054</td>\n",
       "      <td>1399.420044</td>\n",
       "      <td>1009000000</td>\n",
       "    </tr>\n",
       "    <tr>\n",
       "      <th>2</th>\n",
       "      <td>05-01-00</td>\n",
       "      <td>1399.420044</td>\n",
       "      <td>1413.270020</td>\n",
       "      <td>1377.680054</td>\n",
       "      <td>1402.109985</td>\n",
       "      <td>1085500000</td>\n",
       "    </tr>\n",
       "    <tr>\n",
       "      <th>3</th>\n",
       "      <td>06-01-00</td>\n",
       "      <td>1402.109985</td>\n",
       "      <td>1411.900024</td>\n",
       "      <td>1392.099976</td>\n",
       "      <td>1403.449951</td>\n",
       "      <td>1092300000</td>\n",
       "    </tr>\n",
       "    <tr>\n",
       "      <th>4</th>\n",
       "      <td>07-01-00</td>\n",
       "      <td>1403.449951</td>\n",
       "      <td>1441.469971</td>\n",
       "      <td>1400.729980</td>\n",
       "      <td>1441.469971</td>\n",
       "      <td>1225200000</td>\n",
       "    </tr>\n",
       "  </tbody>\n",
       "</table>\n",
       "</div>"
      ],
      "text/plain": [
       "       Date         Open         High          Low        Close      Volume\n",
       "0  03-01-00  1469.250000  1478.000000  1438.359985  1455.219971   931800000\n",
       "1  04-01-00  1455.219971  1455.219971  1397.430054  1399.420044  1009000000\n",
       "2  05-01-00  1399.420044  1413.270020  1377.680054  1402.109985  1085500000\n",
       "3  06-01-00  1402.109985  1411.900024  1392.099976  1403.449951  1092300000\n",
       "4  07-01-00  1403.449951  1441.469971  1400.729980  1441.469971  1225200000"
      ]
     },
     "execution_count": 20,
     "metadata": {},
     "output_type": "execute_result"
    }
   ],
   "source": [
    "df.head()"
   ]
  },
  {
   "cell_type": "code",
   "execution_count": 21,
   "metadata": {},
   "outputs": [],
   "source": []
  },
  {
   "cell_type": "code",
   "execution_count": 26,
   "metadata": {},
   "outputs": [],
   "source": [
    "df_processed = df.iloc[:,1:2].values\n",
    "scaler = MinMaxScaler(feature_range = (0,1))\n",
    "df_scaled = scaler.fit_transform(df_processed)"
   ]
  },
  {
   "cell_type": "code",
   "execution_count": 29,
   "metadata": {},
   "outputs": [
    {
     "data": {
      "text/plain": [
       "array([[0.35430066],\n",
       "       [0.3480082 ],\n",
       "       [0.322982  ],\n",
       "       ...,\n",
       "       [0.99626857],\n",
       "       [1.        ],\n",
       "       [0.99525945]])"
      ]
     },
     "execution_count": 29,
     "metadata": {},
     "output_type": "execute_result"
    }
   ],
   "source": [
    "df_scaled"
   ]
  },
  {
   "cell_type": "code",
   "execution_count": 31,
   "metadata": {},
   "outputs": [],
   "source": [
    "features_set=[]\n",
    "labels = []\n",
    "\n",
    "for i in range(60, 4697):\n",
    "    features_set.append(df_scaled[i-60:i,0])\n",
    "    labels.append(df_scaled[i,0])\n",
    "    "
   ]
  },
  {
   "cell_type": "code",
   "execution_count": 33,
   "metadata": {},
   "outputs": [],
   "source": [
    "features_set, labels = np.array(features_set), np.array(labels)"
   ]
  },
  {
   "cell_type": "code",
   "execution_count": 36,
   "metadata": {},
   "outputs": [],
   "source": [
    "features_set = np.reshape(features_set, (features_set.shape[0], features_set.shape[1], 1))"
   ]
  },
  {
   "cell_type": "code",
   "execution_count": 37,
   "metadata": {},
   "outputs": [
    {
     "data": {
      "text/plain": [
       "array([[[0.35430066],\n",
       "        [0.3480082 ],\n",
       "        [0.322982  ],\n",
       "        ...,\n",
       "        [0.38035843],\n",
       "        [0.38040776],\n",
       "        [0.37879317]],\n",
       "\n",
       "       [[0.3480082 ],\n",
       "        [0.322982  ],\n",
       "        [0.32418843],\n",
       "        ...,\n",
       "        [0.38040776],\n",
       "        [0.37879317],\n",
       "        [0.37155889]],\n",
       "\n",
       "       [[0.322982  ],\n",
       "        [0.32418843],\n",
       "        [0.32478941],\n",
       "        ...,\n",
       "        [0.37879317],\n",
       "        [0.37155889],\n",
       "        [0.37191322]],\n",
       "\n",
       "       ...,\n",
       "\n",
       "       [[0.92802491],\n",
       "        [0.93017323],\n",
       "        [0.93985636],\n",
       "        ...,\n",
       "        [0.97910451],\n",
       "        [0.9891239 ],\n",
       "        [0.99664075]],\n",
       "\n",
       "       [[0.93017323],\n",
       "        [0.93985636],\n",
       "        [0.93581987],\n",
       "        ...,\n",
       "        [0.9891239 ],\n",
       "        [0.99664075],\n",
       "        [0.99626857]],\n",
       "\n",
       "       [[0.93985636],\n",
       "        [0.93581987],\n",
       "        [0.94225128],\n",
       "        ...,\n",
       "        [0.99664075],\n",
       "        [0.99626857],\n",
       "        [1.        ]]])"
      ]
     },
     "execution_count": 37,
     "metadata": {},
     "output_type": "execute_result"
    }
   ],
   "source": [
    "features_set"
   ]
  },
  {
   "cell_type": "code",
   "execution_count": 38,
   "metadata": {},
   "outputs": [],
   "source": [
    "from keras.models import Sequential\n",
    "from keras.layers import Dense, LSTM, Dropout"
   ]
  },
  {
   "cell_type": "code",
   "execution_count": 41,
   "metadata": {},
   "outputs": [],
   "source": [
    "model = Sequential()\n",
    "model.add(LSTM(units = 50, return_sequences = True, input_shape=(features_set.shape[1],1)))"
   ]
  },
  {
   "cell_type": "code",
   "execution_count": 42,
   "metadata": {},
   "outputs": [],
   "source": [
    "model.add(Dropout(0.2))"
   ]
  },
  {
   "cell_type": "code",
   "execution_count": 44,
   "metadata": {},
   "outputs": [],
   "source": [
    "model.add(LSTM(units = 50, return_sequences =True))\n",
    "model.add(Dropout(0.2))\n",
    "\n",
    "model.add(LSTM(units = 50, return_sequences =True))\n",
    "model.add(Dropout(0.2))\n",
    "\n",
    "model.add(LSTM(units = 50))\n",
    "model.add(Dropout(0.2))"
   ]
  },
  {
   "cell_type": "code",
   "execution_count": 45,
   "metadata": {},
   "outputs": [],
   "source": [
    "model.add(Dense(units = 1))"
   ]
  },
  {
   "cell_type": "code",
   "execution_count": 46,
   "metadata": {},
   "outputs": [],
   "source": [
    "model.compile(optimizer = 'adam', loss='mean_squared_error')"
   ]
  },
  {
   "cell_type": "code",
   "execution_count": 48,
   "metadata": {},
   "outputs": [
    {
     "name": "stdout",
     "output_type": "stream",
     "text": [
      "WARNING:tensorflow:From C:\\Users\\Abhishek\\anaconda3\\lib\\site-packages\\keras\\backend\\tensorflow_backend.py:422: The name tf.global_variables is deprecated. Please use tf.compat.v1.global_variables instead.\n",
      "\n",
      "Epoch 1/100\n",
      "4637/4637 [==============================] - 22s 5ms/step - loss: 0.0076\n",
      "Epoch 2/100\n",
      "4637/4637 [==============================] - 19s 4ms/step - loss: 0.0018\n",
      "Epoch 3/100\n",
      "4637/4637 [==============================] - 19s 4ms/step - loss: 0.0018\n",
      "Epoch 4/100\n",
      "4637/4637 [==============================] - 19s 4ms/step - loss: 0.0016\n",
      "Epoch 5/100\n",
      "4637/4637 [==============================] - 19s 4ms/step - loss: 0.0016\n",
      "Epoch 6/100\n",
      "4637/4637 [==============================] - 19s 4ms/step - loss: 0.0016\n",
      "Epoch 7/100\n",
      "4637/4637 [==============================] - 20s 4ms/step - loss: 0.0015\n",
      "Epoch 8/100\n",
      "4637/4637 [==============================] - 20s 4ms/step - loss: 0.0013\n",
      "Epoch 9/100\n",
      "4637/4637 [==============================] - 24s 5ms/step - loss: 0.0012\n",
      "Epoch 10/100\n",
      "4637/4637 [==============================] - 21s 5ms/step - loss: 0.0012\n",
      "Epoch 11/100\n",
      "4637/4637 [==============================] - 23s 5ms/step - loss: 0.0011\n",
      "Epoch 12/100\n",
      "4637/4637 [==============================] - 22s 5ms/step - loss: 0.0011\n",
      "Epoch 13/100\n",
      "4637/4637 [==============================] - 23s 5ms/step - loss: 0.0010\n",
      "Epoch 14/100\n",
      "4637/4637 [==============================] - 24s 5ms/step - loss: 0.0010\n",
      "Epoch 15/100\n",
      "4637/4637 [==============================] - 25s 5ms/step - loss: 8.8395e-04\n",
      "Epoch 16/100\n",
      "4637/4637 [==============================] - 24s 5ms/step - loss: 9.0911e-04\n",
      "Epoch 17/100\n",
      "4637/4637 [==============================] - 24s 5ms/step - loss: 8.7955e-04\n",
      "Epoch 18/100\n",
      "4637/4637 [==============================] - 24s 5ms/step - loss: 9.0240e-04\n",
      "Epoch 19/100\n",
      "4637/4637 [==============================] - 23s 5ms/step - loss: 7.6256e-04\n",
      "Epoch 20/100\n",
      "4637/4637 [==============================] - 23s 5ms/step - loss: 8.7903e-04\n",
      "Epoch 21/100\n",
      "4637/4637 [==============================] - 23s 5ms/step - loss: 7.1526e-04\n",
      "Epoch 22/100\n",
      "4637/4637 [==============================] - 23s 5ms/step - loss: 7.0774e-04\n",
      "Epoch 23/100\n",
      "4637/4637 [==============================] - 23s 5ms/step - loss: 7.4638e-04\n",
      "Epoch 24/100\n",
      "4637/4637 [==============================] - 23s 5ms/step - loss: 7.1773e-04\n",
      "Epoch 25/100\n",
      "4637/4637 [==============================] - 23s 5ms/step - loss: 6.7299e-04\n",
      "Epoch 26/100\n",
      "4637/4637 [==============================] - 24s 5ms/step - loss: 6.8096e-04\n",
      "Epoch 27/100\n",
      "4637/4637 [==============================] - 21s 5ms/step - loss: 7.2754e-04\n",
      "Epoch 28/100\n",
      "4637/4637 [==============================] - 19s 4ms/step - loss: 6.4854e-04\n",
      "Epoch 29/100\n",
      "4637/4637 [==============================] - 20s 4ms/step - loss: 6.5402e-04\n",
      "Epoch 30/100\n",
      "4637/4637 [==============================] - 21s 5ms/step - loss: 6.5226e-04\n",
      "Epoch 31/100\n",
      "4637/4637 [==============================] - 22s 5ms/step - loss: 6.5318e-04\n",
      "Epoch 32/100\n",
      "4637/4637 [==============================] - 23s 5ms/step - loss: 6.3028e-04\n",
      "Epoch 33/100\n",
      "4637/4637 [==============================] - 23s 5ms/step - loss: 6.4689e-04\n",
      "Epoch 34/100\n",
      "4637/4637 [==============================] - 24s 5ms/step - loss: 6.6134e-04\n",
      "Epoch 35/100\n",
      "4637/4637 [==============================] - 24s 5ms/step - loss: 6.6062e-04\n",
      "Epoch 36/100\n",
      "4637/4637 [==============================] - 23s 5ms/step - loss: 6.1611e-04\n",
      "Epoch 37/100\n",
      "4637/4637 [==============================] - 23s 5ms/step - loss: 5.6585e-04\n",
      "Epoch 38/100\n",
      "4637/4637 [==============================] - 21s 5ms/step - loss: 5.4796e-04\n",
      "Epoch 39/100\n",
      "4637/4637 [==============================] - 17s 4ms/step - loss: 6.0377e-04\n",
      "Epoch 40/100\n",
      "4637/4637 [==============================] - 17s 4ms/step - loss: 5.3987e-04\n",
      "Epoch 41/100\n",
      "4637/4637 [==============================] - 18s 4ms/step - loss: 5.9723e-04\n",
      "Epoch 42/100\n",
      "4637/4637 [==============================] - 18s 4ms/step - loss: 5.7638e-04\n",
      "Epoch 43/100\n",
      "4637/4637 [==============================] - 18s 4ms/step - loss: 6.3293e-04\n",
      "Epoch 44/100\n",
      "4637/4637 [==============================] - 19s 4ms/step - loss: 5.8177e-04\n",
      "Epoch 45/100\n",
      "4637/4637 [==============================] - 19s 4ms/step - loss: 5.5973e-04\n",
      "Epoch 46/100\n",
      "4637/4637 [==============================] - 20s 4ms/step - loss: 5.6678e-04\n",
      "Epoch 47/100\n",
      "4637/4637 [==============================] - 21s 4ms/step - loss: 5.0444e-04\n",
      "Epoch 48/100\n",
      "4637/4637 [==============================] - 22s 5ms/step - loss: 6.5900e-04\n",
      "Epoch 49/100\n",
      "4637/4637 [==============================] - 23s 5ms/step - loss: 5.6197e-04\n",
      "Epoch 50/100\n",
      "4637/4637 [==============================] - 24s 5ms/step - loss: 5.0251e-04\n",
      "Epoch 51/100\n",
      "4637/4637 [==============================] - 24s 5ms/step - loss: 5.4383e-04\n",
      "Epoch 52/100\n",
      "4637/4637 [==============================] - 24s 5ms/step - loss: 5.1389e-04\n",
      "Epoch 53/100\n",
      "4637/4637 [==============================] - 24s 5ms/step - loss: 5.3236e-04\n",
      "Epoch 54/100\n",
      "4637/4637 [==============================] - 24s 5ms/step - loss: 5.4972e-04\n",
      "Epoch 55/100\n",
      "4637/4637 [==============================] - 24s 5ms/step - loss: 5.7137e-04\n",
      "Epoch 56/100\n",
      "4637/4637 [==============================] - 23s 5ms/step - loss: 5.1590e-04\n",
      "Epoch 57/100\n",
      "4637/4637 [==============================] - 24s 5ms/step - loss: 5.3310e-04\n",
      "Epoch 58/100\n",
      "4637/4637 [==============================] - 24s 5ms/step - loss: 5.1239e-04\n",
      "Epoch 59/100\n",
      "4637/4637 [==============================] - 24s 5ms/step - loss: 4.8609e-04\n",
      "Epoch 60/100\n",
      "4637/4637 [==============================] - 23s 5ms/step - loss: 5.8819e-04\n",
      "Epoch 61/100\n",
      "4637/4637 [==============================] - 19s 4ms/step - loss: 4.6099e-04\n",
      "Epoch 62/100\n",
      "4637/4637 [==============================] - 20s 4ms/step - loss: 4.7745e-04\n",
      "Epoch 63/100\n",
      "4637/4637 [==============================] - 21s 4ms/step - loss: 5.4328e-04\n",
      "Epoch 64/100\n",
      "4637/4637 [==============================] - 22s 5ms/step - loss: 5.0780e-04\n",
      "Epoch 65/100\n",
      "4637/4637 [==============================] - 23s 5ms/step - loss: 5.6215e-04\n",
      "Epoch 66/100\n",
      "4637/4637 [==============================] - 23s 5ms/step - loss: 4.9886e-04\n",
      "Epoch 67/100\n",
      "4637/4637 [==============================] - 24s 5ms/step - loss: 5.8380e-04\n",
      "Epoch 68/100\n",
      "4637/4637 [==============================] - 23s 5ms/step - loss: 5.4045e-04\n",
      "Epoch 69/100\n",
      "4637/4637 [==============================] - 24s 5ms/step - loss: 5.3500e-04\n",
      "Epoch 70/100\n",
      "4637/4637 [==============================] - 24s 5ms/step - loss: 4.8696e-04\n",
      "Epoch 71/100\n",
      "4637/4637 [==============================] - 24s 5ms/step - loss: 4.9633e-04\n",
      "Epoch 72/100\n",
      "4637/4637 [==============================] - 22s 5ms/step - loss: 4.7905e-04\n",
      "Epoch 73/100\n",
      "4637/4637 [==============================] - 18s 4ms/step - loss: 4.6971e-04\n",
      "Epoch 74/100\n",
      "4637/4637 [==============================] - 17s 4ms/step - loss: 5.1984e-04\n",
      "Epoch 75/100\n",
      "4637/4637 [==============================] - 18s 4ms/step - loss: 5.2028e-04\n",
      "Epoch 76/100\n",
      "4637/4637 [==============================] - 18s 4ms/step - loss: 4.7916e-04\n",
      "Epoch 77/100\n",
      "4637/4637 [==============================] - 18s 4ms/step - loss: 4.9444e-04\n",
      "Epoch 78/100\n",
      "4637/4637 [==============================] - 19s 4ms/step - loss: 5.0440e-04\n",
      "Epoch 79/100\n",
      "4637/4637 [==============================] - 20s 4ms/step - loss: 5.2863e-04\n",
      "Epoch 80/100\n",
      "4637/4637 [==============================] - 20s 4ms/step - loss: 5.0911e-04\n",
      "Epoch 81/100\n",
      "4637/4637 [==============================] - 21s 4ms/step - loss: 5.1726e-04\n",
      "Epoch 82/100\n",
      "4637/4637 [==============================] - 22s 5ms/step - loss: 4.5140e-04\n",
      "Epoch 83/100\n",
      "4637/4637 [==============================] - 24s 5ms/step - loss: 5.4061e-04\n",
      "Epoch 84/100\n",
      "4637/4637 [==============================] - 24s 5ms/step - loss: 4.5757e-04\n",
      "Epoch 85/100\n",
      "4637/4637 [==============================] - 23s 5ms/step - loss: 4.4862e-04\n",
      "Epoch 86/100\n",
      "4637/4637 [==============================] - 25s 5ms/step - loss: 4.8750e-04\n",
      "Epoch 87/100\n",
      "4637/4637 [==============================] - 24s 5ms/step - loss: 5.0022e-04\n",
      "Epoch 88/100\n",
      "4637/4637 [==============================] - 23s 5ms/step - loss: 4.8770e-04\n",
      "Epoch 89/100\n",
      "4637/4637 [==============================] - 23s 5ms/step - loss: 5.0635e-04\n",
      "Epoch 90/100\n"
     ]
    },
    {
     "name": "stdout",
     "output_type": "stream",
     "text": [
      "4637/4637 [==============================] - 23s 5ms/step - loss: 5.0478e-04\n",
      "Epoch 91/100\n",
      "4637/4637 [==============================] - 23s 5ms/step - loss: 4.5204e-04\n",
      "Epoch 92/100\n",
      "4637/4637 [==============================] - 23s 5ms/step - loss: 4.9271e-04\n",
      "Epoch 93/100\n",
      "4637/4637 [==============================] - 23s 5ms/step - loss: 4.7277e-04\n",
      "Epoch 94/100\n",
      "4637/4637 [==============================] - 20s 4ms/step - loss: 5.0803e-04\n",
      "Epoch 95/100\n",
      "4637/4637 [==============================] - 17s 4ms/step - loss: 4.6475e-04\n",
      "Epoch 96/100\n",
      "4637/4637 [==============================] - 17s 4ms/step - loss: 4.8606e-04\n",
      "Epoch 97/100\n",
      "4637/4637 [==============================] - 20s 4ms/step - loss: 4.3394e-04\n",
      "Epoch 98/100\n",
      "4637/4637 [==============================] - 20s 4ms/step - loss: 4.6248e-04\n",
      "Epoch 99/100\n",
      "4637/4637 [==============================] - 21s 5ms/step - loss: 4.6004e-04\n",
      "Epoch 100/100\n",
      "4637/4637 [==============================] - 22s 5ms/step - loss: 4.7041e-04\n"
     ]
    },
    {
     "data": {
      "text/plain": [
       "<keras.callbacks.callbacks.History at 0x24094585248>"
      ]
     },
     "execution_count": 48,
     "metadata": {},
     "output_type": "execute_result"
    }
   ],
   "source": [
    "model.fit(features_set, labels, epochs = 100, batch_size =32)"
   ]
  },
  {
   "cell_type": "code",
   "execution_count": 52,
   "metadata": {},
   "outputs": [],
   "source": [
    "df_testing = pd.read_csv('Sp500_testing.csv')\n",
    "df_testing_processed = df_testing.iloc[:,1:2].values"
   ]
  },
  {
   "cell_type": "code",
   "execution_count": 54,
   "metadata": {},
   "outputs": [],
   "source": [
    "df_total = pd.concat((df_testing['Open'], df_testing['Open']), axis = 0)"
   ]
  },
  {
   "cell_type": "code",
   "execution_count": 55,
   "metadata": {},
   "outputs": [],
   "source": [
    "test_inputs = df_total[len(df_total)-len(df_testing)-60:].values"
   ]
  },
  {
   "cell_type": "code",
   "execution_count": 56,
   "metadata": {},
   "outputs": [],
   "source": [
    "test_inputs = test_inputs.reshape(-1,1)\n",
    "test_inputs = scaler.transform(test_inputs)"
   ]
  },
  {
   "cell_type": "code",
   "execution_count": 59,
   "metadata": {},
   "outputs": [],
   "source": [
    "test_features = []\n",
    "for i in range(60,485):\n",
    "    test_features.append(test_inputs[i-60:i,0])"
   ]
  },
  {
   "cell_type": "code",
   "execution_count": 61,
   "metadata": {},
   "outputs": [],
   "source": [
    "test_features = np.array(test_features)\n",
    "test_features = np.reshape(test_features, (test_features.shape[0], test_features.shape[1], 1))"
   ]
  },
  {
   "cell_type": "code",
   "execution_count": 62,
   "metadata": {},
   "outputs": [],
   "source": [
    "predictions = model.predict(test_features)"
   ]
  },
  {
   "cell_type": "code",
   "execution_count": 63,
   "metadata": {},
   "outputs": [],
   "source": [
    "predictions = scaler.inverse_transform(predictions)"
   ]
  },
  {
   "cell_type": "code",
   "execution_count": 64,
   "metadata": {},
   "outputs": [
    {
     "data": {
      "image/png": "[encoded data removed]",
      "text/plain": [
       "<Figure size 720x432 with 1 Axes>"
      ]
     },
     "metadata": {
      "needs_background": "light"
     },
     "output_type": "display_data"
    }
   ],
   "source": [
    "plt.figure(figsize = (10,6))\n",
    "plt.plot(df_testing_processed, color = 'blue', label = 'Actual S&P500')\n",
    "plt.plot(predictions, color = 'red', label = 'Predicted S&P500')\n",
    "plt.title('S&P500 Prediction')\n",
    "plt.xlabel('Date')\n",
    "plt.ylabel('S&P Price')\n",
    "plt.legend()\n",
    "plt.show()"
   ]
  },
  {
   "cell_type": "code",
   "execution_count": null,
   "metadata": {},
   "outputs": [],
   "source": []
  }
 ],
 "metadata": {
  "kernelspec": {
   "display_name": "Python 3",
   "language": "python",
   "name": "python3"
  },
  "language_info": {
   "codemirror_mode": {
    "name": "ipython",
    "version": 3
   },
   "file_extension": ".py",
   "mimetype": "text/x-python",
   "name": "python",
   "nbconvert_exporter": "python",
   "pygments_lexer": "ipython3",
   "version": "3.7.6"
  }
 },
 "nbformat": 4,
 "nbformat_minor": 4
}
